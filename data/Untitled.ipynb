{
 "cells": [
  {
   "cell_type": "code",
   "execution_count": 5,
   "metadata": {},
   "outputs": [],
   "source": [
    "from statsmodels.stats.proportion import binom_test"
   ]
  },
  {
   "cell_type": "code",
   "execution_count": 6,
   "metadata": {},
   "outputs": [
    {
     "data": {
      "text/plain": [
       "\u001b[0;31mSignature:\u001b[0m \u001b[0mbinom_test\u001b[0m\u001b[0;34m(\u001b[0m\u001b[0mcount\u001b[0m\u001b[0;34m,\u001b[0m \u001b[0mnobs\u001b[0m\u001b[0;34m,\u001b[0m \u001b[0mprop\u001b[0m\u001b[0;34m=\u001b[0m\u001b[0;36m0.5\u001b[0m\u001b[0;34m,\u001b[0m \u001b[0malternative\u001b[0m\u001b[0;34m=\u001b[0m\u001b[0;34m'two-sided'\u001b[0m\u001b[0;34m)\u001b[0m\u001b[0;34m\u001b[0m\u001b[0m\n",
       "\u001b[0;31mDocstring:\u001b[0m\n",
       "Perform a test that the probability of success is p.\n",
       "\n",
       "This is an exact, two-sided test of the null hypothesis\n",
       "that the probability of success in a Bernoulli experiment\n",
       "is `p`.\n",
       "\n",
       "Parameters\n",
       "----------\n",
       "count : integer or array_like\n",
       "    the number of successes in nobs trials.\n",
       "nobs : integer\n",
       "    the number of trials or observations.\n",
       "prop : float, optional\n",
       "    The probability of success under the null hypothesis,\n",
       "    `0 <= prop <= 1`. The default value is `prop = 0.5`\n",
       "alternative : string in ['two-sided', 'smaller', 'larger']\n",
       "    alternative hypothesis, which can be two-sided or either one of the\n",
       "    one-sided tests.\n",
       "\n",
       "Returns\n",
       "-------\n",
       "p-value : float\n",
       "    The p-value of the hypothesis test\n",
       "\n",
       "Notes\n",
       "-----\n",
       "This uses scipy.stats.binom_test for the two-sided alternative.\n",
       "\u001b[0;31mFile:\u001b[0m      /anaconda3/lib/python3.6/site-packages/statsmodels/stats/proportion.py\n",
       "\u001b[0;31mType:\u001b[0m      function\n"
      ]
     },
     "metadata": {},
     "output_type": "display_data"
    }
   ],
   "source": [
    "?binom_test"
   ]
  },
  {
   "cell_type": "code",
   "execution_count": 8,
   "metadata": {},
   "outputs": [
    {
     "data": {
      "text/plain": [
       "0.034151629639075066"
      ]
     },
     "execution_count": 8,
     "metadata": {},
     "output_type": "execute_result"
    }
   ],
   "source": [
    "binom_test(28, 100, .2, \"larger\")"
   ]
  },
  {
   "cell_type": "code",
   "execution_count": null,
   "metadata": {},
   "outputs": [],
   "source": []
  }
 ],
 "metadata": {
  "kernelspec": {
   "display_name": "Python 3",
   "language": "python",
   "name": "python3"
  },
  "language_info": {
   "codemirror_mode": {
    "name": "ipython",
    "version": 3
   },
   "file_extension": ".py",
   "mimetype": "text/x-python",
   "name": "python",
   "nbconvert_exporter": "python",
   "pygments_lexer": "ipython3",
   "version": "3.6.5"
  }
 },
 "nbformat": 4,
 "nbformat_minor": 2
}
