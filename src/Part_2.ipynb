{
 "cells": [
  {
   "cell_type": "markdown",
   "metadata": {},
   "source": [
    "# Part 2 : Is having party support useful to furthering a political agenda?"
   ]
  },
  {
   "cell_type": "code",
   "execution_count": 26,
   "metadata": {},
   "outputs": [],
   "source": [
    "import warnings\n",
    "import os\n",
    "import pandas as pd\n",
    "import numpy as np\n",
    "import matplotlib.pyplot as plt\n",
    "import requests\n",
    "from bs4 import BeautifulSoup\n",
    "import codecs\n",
    "import glob\n",
    "from fuzzywuzzy import fuzz\n",
    "from fuzzywuzzy import process\n",
    "\n",
    "from sklearn.impute import SimpleImputer\n",
    "from sklearn.preprocessing import StandardScaler\n",
    "from sklearn.decomposition import PCA\n",
    "from sklearn.manifold import TSNE\n",
    "from sklearn.cluster import KMeans\n",
    "\n",
    "from sklearn.neighbors import kneighbors_graph\n",
    "\n",
    "import networkx as nx\n",
    "\n",
    "from scipy.sparse.linalg import eigs\n",
    "\n",
    "import data_loading\n"
   ]
  },
  {
   "cell_type": "code",
   "execution_count": 27,
   "metadata": {},
   "outputs": [
    {
     "name": "stderr",
     "output_type": "stream",
     "text": [
      "/Users/marcglettig/.local/lib/python3.7/site-packages/IPython/core/interactiveshell.py:3018: DtypeWarning: Columns (20,41) have mixed types. Specify dtype option on import or set low_memory=False.\n",
      "  interactivity=interactivity, compiler=compiler, result=result)\n"
     ]
    }
   ],
   "source": [
    "full_votes = pd.read_csv(\"../generated/full_votes.csv.gz\")"
   ]
  },
  {
   "cell_type": "code",
   "execution_count": 28,
   "metadata": {},
   "outputs": [],
   "source": [
    "votes = pd.read_csv(\"../generated/votes.csv.gz\",index_col=0)"
   ]
  },
  {
   "cell_type": "code",
   "execution_count": 29,
   "metadata": {},
   "outputs": [],
   "source": [
    "members = pd.read_csv(\"../generated/members.csv\")"
   ]
  },
  {
   "cell_type": "markdown",
   "metadata": {},
   "source": [
    "### General attendence vs attendence at motions from party"
   ]
  },
  {
   "cell_type": "markdown",
   "metadata": {},
   "source": [
    "> First let's get the set of members for each party"
   ]
  },
  {
   "cell_type": "code",
   "execution_count": 30,
   "metadata": {},
   "outputs": [],
   "source": [
    "party_members = members[['PartyAbbreviation', 'LastName', 'FirstName']]\\\n",
    "                    .groupby('PartyAbbreviation').agg(lambda x: list(x))\n",
    "party_members['Member_set'] = party_members.apply(lambda x: set(zip(x['LastName'], x['FirstName'])), axis=1)\n",
    "party_members = party_members.drop(['LastName', 'FirstName'], axis=1).reset_index()"
   ]
  },
  {
   "cell_type": "markdown",
   "metadata": {},
   "source": [
    "> Then lets see the set difference for members that attend to the members of the parties. We can asses this with the Jaccard Similarity"
   ]
  },
  {
   "cell_type": "code",
   "execution_count": 31,
   "metadata": {},
   "outputs": [],
   "source": [
    "def jaccard(A, B):\n",
    "    return len(A.intersection(B))/len(A.union(B))"
   ]
  },
  {
   "cell_type": "markdown",
   "metadata": {},
   "source": [
    "### Get the parties initiating a business item"
   ]
  },
  {
   "cell_type": "markdown",
   "metadata": {},
   "source": [
    "As the party initiating a business item is not stated in the data provided, we used webscraping to collect information about the initiators of a business item. If the text describing the initiators contains a name of a councillor, we assume that the business item has been issued by the party of this councillor. This leads us to the party initiating a business item. Note that in many cases, there is no party initiating the business item. Often responsible commities are issuing such items. These commities are most likely composed out of many councillors from different parties and not a single party can be attributed."
   ]
  },
  {
   "cell_type": "code",
   "execution_count": 33,
   "metadata": {},
   "outputs": [],
   "source": [
    "def html_file_to_affair(file):\n",
    "    ms_items = file.find_all('div', class_=\"ms-srch-item\")\n",
    "    headers = [item.find('h4', class_='ms-srch-item-area') for item in ms_items]\n",
    "    IDs = [header.a.get('href')[-8:] for header in headers]\n",
    "    affairs = [header.a.string for header in headers]\n",
    "    return list(zip(IDs, affairs))\n",
    "\n",
    "def get_councillor(councillors, item):\n",
    "    for councillor in councillors:\n",
    "        if fuzz.token_set_ratio(item, councillor) > 90:\n",
    "            return councillor\n",
    "    return None"
   ]
  },
  {
   "cell_type": "markdown",
   "metadata": {},
   "source": [
    "The HTML files indicated are from https://www.parlament.ch/de/ratsbetrieb/suche-curia-vista where we collect all business items."
   ]
  },
  {
   "cell_type": "code",
   "execution_count": 34,
   "metadata": {},
   "outputs": [],
   "source": [
    "'''Used to attribute the party to the names of the councillors'''\n",
    "unique_name_party = full_votes[['AffairShortId','CouncillorName', 'PartyAbbreviation']].drop_duplicates()\\\n",
    "                    .set_index(['CouncillorName','AffairShortId'])\n",
    "\n",
    "super_dict = unique_name_party.to_dict('index')\n",
    "\n",
    "def get_party(Councillor, AffairID):\n",
    "    try: \n",
    "        return super_dict[(Councillor, AffairID)]['PartyAbbreviation']\n",
    "    except KeyError:\n",
    "        return 0\n",
    "    except:\n",
    "        return 0"
   ]
  },
  {
   "cell_type": "code",
   "execution_count": 35,
   "metadata": {},
   "outputs": [],
   "source": [
    "'''\n",
    "Web scraping, only to be done to create the business_items file.\n",
    "\n",
    "path = '../generated/business_items'\n",
    "affairs_ = []\n",
    "for filename in glob.glob(os.path.join(path, '*.html')):\n",
    "    f=codecs.open(filename)\n",
    "    document= BeautifulSoup(f.read(), 'html.parser')\n",
    "    affairs_.extend(html_file_to_affair(document))\n",
    "\n",
    "df = pd.DataFrame(affairs_, columns=['AffairID', 'BusinessItem']) \n",
    "df.to_csv('../generated/business_items.csv')'''\n",
    "\n",
    "df = pd.read_csv('../generated/business_items.csv')\n",
    "names = set(full_votes['CouncillorName'].unique())\n",
    "df['Councillor'] = df.apply (lambda row: get_councillor(names, row['BusinessItem']), axis=1)\n",
    "df['Party'] = df.apply(lambda row: get_party(row['Councillor'], int(row['AffairID'])), axis=1)\n",
    "df['AffairID'] = df['AffairID'].astype('int32')\n",
    "df_ = df.set_index('AffairID')[['BusinessItem','Councillor','Party']]\n",
    "full_votes_ = full_votes.join(df_, on='AffairShortId')"
   ]
  },
  {
   "cell_type": "markdown",
   "metadata": {},
   "source": [
    "Now we have added the Party initating an affair if there is one."
   ]
  },
  {
   "cell_type": "markdown",
   "metadata": {},
   "source": [
    "### We are ready to calculate the presence at votes"
   ]
  },
  {
   "cell_type": "markdown",
   "metadata": {},
   "source": [
    "We create a set of all the councillor names that voted in a particular business item."
   ]
  },
  {
   "cell_type": "code",
   "execution_count": 41,
   "metadata": {},
   "outputs": [
    {
     "name": "stderr",
     "output_type": "stream",
     "text": [
      "/Users/marcglettig/.local/lib/python3.7/site-packages/ipykernel_launcher.py:1: UserWarning: Boolean Series key will be reindexed to match DataFrame index.\n",
      "  \"\"\"Entry point for launching an IPython kernel.\n"
     ]
    }
   ],
   "source": [
    "presence_at_votes = full_votes_[full_votes['CouncillorNotParticipated'] == True]\n",
    "presence_at_votes = presence_at_votes[['VoteRegistrationNumber', 'CouncillorNotParticipated', 'LastName', 'FirstName', 'Party']]\\\n",
    "                    .groupby('VoteRegistrationNumber')\\\n",
    "                    .agg(lambda x: list(x))\n",
    "presence_at_votes['Party'] = presence_at_votes['Party'].apply(lambda row: row[0])\n",
    "presence_at_votes['Present_Set'] = presence_at_votes.apply(lambda x: set(zip(x['LastName'], x['FirstName'])), axis=1)\n",
    "presence_at_votes = presence_at_votes.drop(['LastName', 'FirstName'], axis=1).reset_index()"
   ]
  },
  {
   "cell_type": "code",
   "execution_count": 45,
   "metadata": {},
   "outputs": [],
   "source": [
    "'''Cross-Join to compare the party member set with the voting set'''\n",
    "product = (\n",
    "    party_members.assign(key=1)\n",
    "    .merge(presence_at_votes.assign(key=1), on=\"key\")\n",
    "    .drop(\"key\", axis=1)\n",
    ")\n",
    "\n",
    "product['party_presence'] = product.apply(lambda x: jaccard(x['Member_set'], x['Present_Set']), axis=1)\n",
    "product = product.drop(['Member_set', 'Present_Set'], axis=1)"
   ]
  },
  {
   "cell_type": "markdown",
   "metadata": {},
   "source": [
    "From the joined dataframe we apply the Jaccard difference and find the attendence score for each party at each vote. This can now be averaged over the case where we keep all votes or only keeping the votes about items from each party."
   ]
  },
  {
   "cell_type": "code",
   "execution_count": 59,
   "metadata": {},
   "outputs": [
    {
     "data": {
      "image/png": "[encoded data removed]",
      "text/plain": [
       "<Figure size 1152x648 with 1 Axes>"
      ]
     },
     "metadata": {
      "needs_background": "light"
     },
     "output_type": "display_data"
    }
   ],
   "source": [
    "product_ = product[product['Party'] != 0]\n",
    "product_ = product_[product_['Party'] == product_['PartyAbbreviation']]\n",
    "party_party_presence = product_[['PartyAbbreviation', 'party_presence']].groupby('PartyAbbreviation').agg(np.mean)\n",
    "mean_party_presence = product[['PartyAbbreviation', 'party_presence']].groupby('PartyAbbreviation').agg(np.mean)\n",
    "\n",
    "mean_party_presence['All motions'] = mean_party_presence['party_presence']\n",
    "mean_party_presence['Party Motions only'] = party_party_presence['party_presence']\n",
    "\n",
    "final_ = mean_party_presence.drop('party_presence', axis=1).sort_values(by='All motions')\n",
    "final_.plot(kind='bar', figsize=(16,9), title='Party Presence overall vs. at their motions');"
   ]
  },
  {
   "cell_type": "markdown",
   "metadata": {},
   "source": [
    "We can state from the graph that the presence of a party at their votes is not greatly influenced by the fact of a motion being from their proper party or not. Even though inside the parties there are sometimes great differences. But overall there is no trend to be seen."
   ]
  },
  {
   "cell_type": "code",
   "execution_count": null,
   "metadata": {},
   "outputs": [],
   "source": []
  }
 ],
 "metadata": {
  "kernelspec": {
   "display_name": "Python 3",
   "language": "python",
   "name": "python3"
  },
  "language_info": {
   "codemirror_mode": {
    "name": "ipython",
    "version": 3
   },
   "file_extension": ".py",
   "mimetype": "text/x-python",
   "name": "python",
   "nbconvert_exporter": "python",
   "pygments_lexer": "ipython3",
   "version": "3.7.1"
  }
 },
 "nbformat": 4,
 "nbformat_minor": 2
}
