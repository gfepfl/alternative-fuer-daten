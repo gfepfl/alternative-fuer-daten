{
 "cells": [
  {
   "cell_type": "markdown",
   "metadata": {},
   "source": [
    "### Picking an Executive Power \n",
    "\n",
    "In Switzerland the executive branch of government consists of a council of 7 people, which are chosen to roughly represent the political landscape of Switzerland. They are elected by the Federal Assembly (National Council as well as the State Council). We are interested in finding out if their pick can be justified by our data. There is no obvious reason why a Member of the Council is elected over another, although it seems from the media coverage that the party of a candidate plays a major role.\n",
    "Yet we have seen that belonging to a party did not necessarily guaranteed a voting pattern nor an active support to other party members. Does the assumption of party membership importance hold under the light of our analysis? If party membership was a key element, the elected member would need to be representative of his party, which we simplify as being \"central\" in the cluster of the party. To test the sub-mentioned assumption, we look at the votes of members of the National Council in the legislature antecedent their election to the Federal Council to see whether they could be considered as \"central\" at the time of the elections.\n",
    "\n",
    "The politicans for which we have data available are:\n",
    "\n",
    "   - Parmelin Guy (UDC) in function as Federal Counciller from 2016\n",
    "    \n",
    "   - Schneider-Ammann Johann N. (PLR) Federal Counciller from 2010 to 2018\n",
    "    \n",
    "   - Maurer Ueli (UDC) in function as Federal Counciller from 2010\n",
    "\n",
    "Unfortunately, other federal councilors were not part of the National Council at the time for which we have data. While this is too few data points to derive some meaningful conclusion, it is still interesting to see what information can be drawn from those points. We chose here to only look at information from the first legislature as it is the only one where all there councilors are present. \n",
    "\n",
    "#### Visualizing Centrality\n",
    "<iframe src=\"assets/html/real_graph.html\" width=\"100%\" height=\"500\" scrolling=\"no\" seamless=\"seamless\" frameborder=\"0\"></iframe>\n",
    "\n",
    "From the graph, it seems that none of the examples we have seen are very central in their party. Ueli Maurer is even quite far apart from the rest of UDC. Johann Schneider-Ammann seems also somewhat isolated. This would indicate that having a voting pattern representative of one's party isn't essential to be elected for the federal council. This can be futher proven by ranking each members \"closeness\" to the rest of it's party.  \n",
    "\n",
    "<img src=\"../docs/assets/image/closeness_udc.png\" alt=\"drawing\" width=\"400\"/>\n",
    "<img src=\"../docs/assets/image/closeness_plr.png\" alt=\"drawing\" width=\"400\"/>\n",
    "\n",
    "None of the federal councillors are the obvious pick of their party since a lot of other members of both UDC and PLR would be a lot more representative that the ones that actually got elected. The few councillor we can observe would then suggest that party isn't as relevant to one's election as the media would suggest. *This is further proof that political party are not relevant in the Swiss Political System*. \n",
    "\n",
    "#### A Better Alternative\n",
    "Nonetheless, it seems intutive to pick 7 members of the executive power that each best represent a subgroup of the legislative power. This would result with law makers satisfied of the execution of their laws. Do do this we can split the members of the National Council in 7 groups based on their votes and pick for each group the politican that is in the middle. \n",
    "\n",
    "<iframe src=\"assets/html/best_graph.html\" width=\"100%\" height=\"500\" scrolling=\"yes\" seamless=\"seamless\" frameborder=\"0\"></iframe>\n",
    "\n",
    "Since the Federal Councilor has just been re-elected, this method can be used to determined who would have been a good rational pick. The results is: \n",
    "- Flach Beat (PVL)\n",
    "- Mazzone Lisa \t(PES)\n",
    "- Feller Olivier (PLR)\n",
    "- Marchand-Balet Géraldine (PDC)\n",
    "- Piller Carrard Valérie (PSS)\n",
    "- Stamm Luzi (UDC)\n",
    "- Girod Bastien (PES)\n",
    "\n",
    "It seems that the Federal Assembly uses an another methods to make his choice, an none of those councillors on this list has been elected on the 11th of December 2019.  \n",
    "\n",
    "\n",
    "\n",
    "\n",
    "\n"
   ]
  },
  {
   "cell_type": "markdown",
   "metadata": {},
   "source": []
  }
 ],
 "metadata": {
  "kernelspec": {
   "display_name": "Python 3",
   "language": "python",
   "name": "python3"
  },
  "language_info": {
   "codemirror_mode": {
    "name": "ipython",
    "version": 3
   },
   "file_extension": ".py",
   "mimetype": "text/x-python",
   "name": "python",
   "nbconvert_exporter": "python",
   "pygments_lexer": "ipython3",
   "version": "3.6.8"
  }
 },
 "nbformat": 4,
 "nbformat_minor": 2
}
